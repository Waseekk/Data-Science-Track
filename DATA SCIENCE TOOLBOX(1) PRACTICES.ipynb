{
 "cells": [
  {
   "cell_type": "code",
   "execution_count": null,
   "id": "ca7de6b7",
   "metadata": {},
   "outputs": [],
   "source": [
    "def nth_root(n):\n",
    "    def actual_root(x):\n",
    "        root = x ** (1/n)\n",
    "        return root\n",
    "    return actual_root\n",
    "print(nth_root(3)(27))"
   ]
  },
  {
   "cell_type": "code",
   "execution_count": null,
   "id": "f5e3395c",
   "metadata": {},
   "outputs": [],
   "source": [
    "def add_zeros(string):\n",
    "    \"\"\"Returns a string padded with zeros\n",
    "       to ensure consistent length\"\"\"\n",
    "    updated_string = string + '0'\n",
    "    def add_more():\n",
    "        \"\"\"Adds more zeros if necessary\"\"\"\n",
    "        nonlocal updated_string\n",
    "        updated_string = updated_string + '0'\n",
    "    while len(updated_string) < 6:\n",
    "        add_more()\n",
    "    return updated_string\n",
    "(add_zeros('3.4'), add_zeros('5.678'))"
   ]
  },
  {
   "cell_type": "code",
   "execution_count": null,
   "id": "97dd6f50",
   "metadata": {},
   "outputs": [],
   "source": [
    "x = ['aPPle', 'baNANa']\n",
    "def caps (li):\n",
    "    \"\"\"\"Returns a list, with all elements capitalized\"\"\"\n",
    "    def inner (w):\n",
    "        \"\"\"Returns a capitalized word\"\"\"\n",
    "        return w.capitalize()\n",
    "    return ([inner(li[0]), inner(li[1])])\n",
    "print(caps(x))"
   ]
  },
  {
   "cell_type": "code",
   "execution_count": null,
   "id": "af4b85f3",
   "metadata": {},
   "outputs": [],
   "source": [
    "from functools import reduce\n",
    "product = [1, 3, 2]\n",
    "result =reduce(lambda x, y: x * y, product)\n",
    "print(result)"
   ]
  },
  {
   "cell_type": "code",
   "execution_count": null,
   "id": "d92f584d",
   "metadata": {},
   "outputs": [],
   "source": [
    "def easy_print(**x):\n",
    "        for key, value in x.items():\n",
    "            print('The value of ' + \n",
    "                  str(key) + \" is \" + \n",
    "                  str(value))\n",
    "(easy_print(a = 10), easy_print(b = 12))"
   ]
  },
  {
   "cell_type": "code",
   "execution_count": null,
   "id": "0f240c67",
   "metadata": {},
   "outputs": [],
   "source": [
    "def mean(*args):\n",
    "    \"\"\"Returns the mean of all the numbers\"\"\"\n",
    "    total_sum = 0 # Intial sum\n",
    "    n = len(args) # Number of arguments\n",
    "    for x in args:\n",
    "        total_sum = total_sum + x\n",
    "    return total_sum/n\n",
    "print((mean(3, 4), mean(20, 25, 30)))"
   ]
  },
  {
   "cell_type": "code",
   "execution_count": null,
   "id": "2cc8779a",
   "metadata": {},
   "outputs": [],
   "source": [
    "def check_type(**kwargs):\n",
    "    return type(kwargs)\n",
    "\n",
    "check_type(a = 1, b = 2, c = 3)"
   ]
  },
  {
   "cell_type": "code",
   "execution_count": null,
   "id": "e52ff3dd",
   "metadata": {},
   "outputs": [],
   "source": [
    "def sorted_elements(x, desc=True, n=2):\n",
    "    new_x = sorted(x, reverse=desc)[0:n]\n",
    "    return new_x"
   ]
  },
  {
   "cell_type": "code",
   "execution_count": null,
   "id": "5847ae74",
   "metadata": {},
   "outputs": [],
   "source": [
    "def check_type(*args):\n",
    "    return type(args)\n",
    "\n",
    "check_type(1, 2, 3)"
   ]
  },
  {
   "cell_type": "code",
   "execution_count": null,
   "id": "3d50248c",
   "metadata": {},
   "outputs": [],
   "source": []
  },
  {
   "cell_type": "code",
   "execution_count": null,
   "id": "3dcc334c",
   "metadata": {},
   "outputs": [],
   "source": [
    "characters_names = ['Felicity Smoak', 'Laurel Lance']\n",
    "code_names = ['Overwatch', 'Black Canary']\n"
   ]
  },
  {
   "cell_type": "code",
   "execution_count": 2,
   "id": "2766cdb7",
   "metadata": {},
   "outputs": [
    {
     "name": "stdout",
     "output_type": "stream",
     "text": [
      "30\n"
     ]
    }
   ],
   "source": [
    "def convert_yards(y, feet = True):\n",
    "    if feet is True:\n",
    "        new_y = y * 3\n",
    "    else:\n",
    "        new_y = y * 36\n",
    "    return new_y\n",
    "print(convert_yards(10))"
   ]
  },
  {
   "cell_type": "code",
   "execution_count": 17,
   "id": "4cf657fc",
   "metadata": {},
   "outputs": [
    {
     "ename": "SyntaxError",
     "evalue": "invalid syntax (3862606972.py, line 1)",
     "output_type": "error",
     "traceback": [
      "\u001b[1;36m  Input \u001b[1;32mIn [17]\u001b[1;36m\u001b[0m\n\u001b[1;33m    def mean (list(x)):\u001b[0m\n\u001b[1;37m                  ^\u001b[0m\n\u001b[1;31mSyntaxError\u001b[0m\u001b[1;31m:\u001b[0m invalid syntax\n"
     ]
    }
   ],
   "source": [
    "def mean (list(x)):\n",
    "    \"\"\"Returns the mean of all the numbers\"\"\"\n",
    "    total_sum = 0\n",
    "    n = len(x)\n",
    "    for i in x:\n",
    "        total_sum = total_sum + i\n",
    "    return total_sum/n\n",
    "print((mean(4, 5), mean(40, 45, 50)))"
   ]
  },
  {
   "cell_type": "code",
   "execution_count": 21,
   "id": "87634600",
   "metadata": {},
   "outputs": [
    {
     "data": {
      "text/plain": [
       "('1.2000', '45.670')"
      ]
     },
     "execution_count": 21,
     "metadata": {},
     "output_type": "execute_result"
    }
   ],
   "source": [
    "def add_zeros(string):\n",
    "    \"\"\"Returns a string padded with zeros\n",
    "       to ensure consistent length\"\"\"\n",
    "    updated_string = string + '0'\n",
    "    def add_more():\n",
    "        \"\"\"Adds more zeros if necessary\"\"\"\n",
    "        nonlocal updated_string\n",
    "        updated_string = updated_string + '0'\n",
    "    while len(updated_string) < 6:\n",
    "        add_more()\n",
    "    return updated_string\n",
    "(add_zeros('1.2'), add_zeros('45.67'))"
   ]
  },
  {
   "cell_type": "code",
   "execution_count": 23,
   "id": "5f629565",
   "metadata": {},
   "outputs": [
    {
     "name": "stdout",
     "output_type": "stream",
     "text": [
      "[3, 2, 7]\n"
     ]
    }
   ],
   "source": [
    "x = [3, -1, -10, 2, 7]\n",
    "greater_than_zero = filter(lambda n: n > 0, x)\n",
    "print(list(greater_than_zero))"
   ]
  },
  {
   "cell_type": "code",
   "execution_count": 24,
   "id": "3ff618a8",
   "metadata": {},
   "outputs": [
    {
     "name": "stdout",
     "output_type": "stream",
     "text": [
      "[11, 10, 6]\n"
     ]
    }
   ],
   "source": [
    "def sorted_elements(x, desc=True, n=2):\n",
    "    new_x = sorted(x, reverse=desc)[0:n]\n",
    "    return new_x\n",
    "a = [0, 6, 11, 1, 0, 10]\n",
    "print(sorted_elements(a, n=3))"
   ]
  },
  {
   "cell_type": "code",
   "execution_count": 25,
   "id": "9733ab27",
   "metadata": {},
   "outputs": [
    {
     "name": "stdout",
     "output_type": "stream",
     "text": [
      "3.0\n"
     ]
    }
   ],
   "source": [
    "def nth_root(n):\n",
    "    def actual_root(x):\n",
    "        root = x ** (1/n)\n",
    "        return root\n",
    "    return actual_root\n",
    "print(nth_root(3)(27))"
   ]
  },
  {
   "cell_type": "code",
   "execution_count": 26,
   "id": "927e4ebd",
   "metadata": {},
   "outputs": [
    {
     "name": "stdout",
     "output_type": "stream",
     "text": [
      "30\n"
     ]
    }
   ],
   "source": [
    "def convert_yards(y, feet = True):\n",
    "    if feet is True:\n",
    "        new_y = y * 3\n",
    "    else:\n",
    "        new_y = y * 36\n",
    "    return new_y\n",
    "print(convert_yards(10))"
   ]
  },
  {
   "cell_type": "code",
   "execution_count": 28,
   "id": "351ccf29",
   "metadata": {},
   "outputs": [
    {
     "name": "stdout",
     "output_type": "stream",
     "text": [
      "75.0\n"
     ]
    }
   ],
   "source": [
    "def money_off (discount,coupon):\n",
    "  \"\"\"Returns the final price paid after the discount (float < 0.5) and coupon (int < 40) have been applied.\"\"\"\n",
    "  full_price = 100\n",
    "  discount_diff = 1 - discount\n",
    "  discounted = full_price * discount_diff\n",
    "  final_price = discounted - coupon\n",
    "  print(final_price)\n",
    "money_off(.2,5)"
   ]
  },
  {
   "cell_type": "code",
   "execution_count": 30,
   "id": "d3dd0caf",
   "metadata": {},
   "outputs": [
    {
     "name": "stdout",
     "output_type": "stream",
     "text": [
      "[[ 6 10 35]\n",
      " [ 0 42  1]] [[ 7  7 12]\n",
      " [ 7 13  2]]\n"
     ]
    }
   ],
   "source": [
    "import numpy as np\n",
    "x = np.array([[1, 2, 7],\n",
    "              [7, 7, 1]])\n",
    "y = np.array([[6, 5, 5], \n",
    "              [0, 6, 1]])\n",
    "print(x*y,x+y)"
   ]
  },
  {
   "cell_type": "code",
   "execution_count": 32,
   "id": "f2bf1418",
   "metadata": {},
   "outputs": [
    {
     "data": {
      "text/plain": [
       "2"
      ]
     },
     "execution_count": 32,
     "metadata": {},
     "output_type": "execute_result"
    }
   ],
   "source": [
    "list = [1,2,3,-2,-6,-4,5]\n",
    "list.index(3)"
   ]
  },
  {
   "cell_type": "code",
   "execution_count": 33,
   "id": "b54ae1e1",
   "metadata": {},
   "outputs": [
    {
     "name": "stdout",
     "output_type": "stream",
     "text": [
      "[9, 2, 8, 4]\n"
     ]
    }
   ],
   "source": [
    "x = [9, 2, 8, 4, 5]\n",
    "x.remove(5)\n",
    "print(x)"
   ]
  },
  {
   "cell_type": "code",
   "execution_count": 37,
   "id": "2092e800",
   "metadata": {},
   "outputs": [
    {
     "name": "stdout",
     "output_type": "stream",
     "text": [
      "[21 17 65 43 29 50 35]\n"
     ]
    },
    {
     "data": {
      "text/plain": [
       "array([65, 50])"
      ]
     },
     "execution_count": 37,
     "metadata": {},
     "output_type": "execute_result"
    }
   ],
   "source": [
    "ages=np.array([21, 17, 65, 43, 29, 50, 35])\n",
    "print(ages)\n",
    "ages[ages>45]"
   ]
  },
  {
   "cell_type": "code",
   "execution_count": 39,
   "id": "bfbda705",
   "metadata": {},
   "outputs": [
    {
     "name": "stdout",
     "output_type": "stream",
     "text": [
      "[[[255   0   0]\n",
      "  [  0   0   0]\n",
      "  [  0   0 255]]\n",
      "\n",
      " [[  0 255 255]\n",
      "  [255 255 255]\n",
      "  [255   0 255]]]\n"
     ]
    }
   ],
   "source": [
    "rgb=([[[255,   0,   0],\n",
    "        [  0,   0,   0],\n",
    "        [  0,   0, 255]],\n",
    "\n",
    "       [[255,   0, 255],\n",
    "        [255, 255, 255],\n",
    "        [255, 255,   0]]])\n",
    "print(np.flip(rgb, axis=(1, 2)))"
   ]
  },
  {
   "cell_type": "code",
   "execution_count": 40,
   "id": "c4890926",
   "metadata": {},
   "outputs": [
    {
     "ename": "TypeError",
     "evalue": "'>' not supported between instances of 'list' and 'int'",
     "output_type": "error",
     "traceback": [
      "\u001b[1;31m---------------------------------------------------------------------------\u001b[0m",
      "\u001b[1;31mTypeError\u001b[0m                                 Traceback (most recent call last)",
      "Input \u001b[1;32mIn [40]\u001b[0m, in \u001b[0;36m<cell line: 4>\u001b[1;34m()\u001b[0m\n\u001b[0;32m      1\u001b[0m array\u001b[38;5;241m=\u001b[39m([[ \u001b[38;5;241m5\u001b[39m,  \u001b[38;5;241m1\u001b[39m,  \u001b[38;5;241m3\u001b[39m,  \u001b[38;5;241m2\u001b[39m,  \u001b[38;5;241m4\u001b[39m,  \u001b[38;5;241m6\u001b[39m],\n\u001b[0;32m      2\u001b[0m        [ \u001b[38;5;241m5\u001b[39m,  \u001b[38;5;241m8\u001b[39m,  \u001b[38;5;241m0\u001b[39m,  \u001b[38;5;241m3\u001b[39m,  \u001b[38;5;241m1\u001b[39m,  \u001b[38;5;241m2\u001b[39m],\n\u001b[0;32m      3\u001b[0m        [ \u001b[38;5;241m3\u001b[39m, \u001b[38;5;241m10\u001b[39m,  \u001b[38;5;241m6\u001b[39m, \u001b[38;5;241m21\u001b[39m, \u001b[38;5;241m15\u001b[39m,  \u001b[38;5;241m1\u001b[39m]])\n\u001b[1;32m----> 4\u001b[0m \u001b[38;5;28mprint\u001b[39m(array[\u001b[43marray\u001b[49m\u001b[38;5;241;43m>\u001b[39;49m\u001b[38;5;241;43m7\u001b[39;49m])\n",
      "\u001b[1;31mTypeError\u001b[0m: '>' not supported between instances of 'list' and 'int'"
     ]
    }
   ],
   "source": [
    "array=([[ 5,  1,  3,  2,  4,  6],\n",
    "       [ 5,  8,  0,  3,  1,  2],\n",
    "       [ 3, 10,  6, 21, 15,  1]])\n",
    "print(array[array>7])"
   ]
  },
  {
   "cell_type": "code",
   "execution_count": 42,
   "id": "a0a3a41d",
   "metadata": {},
   "outputs": [
    {
     "name": "stdout",
     "output_type": "stream",
     "text": [
      "[[ 1  4]\n",
      " [ 0  3]\n",
      " [ 1 10]]\n"
     ]
    }
   ],
   "source": [
    "arr=np.array([[ 1,  2,  3,  4,  5,  6],\n",
    "       [ 0,  1,  2,  3,  5,  8],\n",
    "       [ 1,  3,  6, 10, 15, 21]])\n",
    "print(arr[:,0:7:3])"
   ]
  },
  {
   "cell_type": "code",
   "execution_count": 43,
   "id": "c2843cb4",
   "metadata": {},
   "outputs": [
    {
     "name": "stdout",
     "output_type": "stream",
     "text": [
      "10\n"
     ]
    }
   ],
   "source": [
    "x = 4\n",
    "print(x % 7 + 6)"
   ]
  },
  {
   "cell_type": "code",
   "execution_count": 44,
   "id": "b6aef83c",
   "metadata": {},
   "outputs": [
    {
     "name": "stdout",
     "output_type": "stream",
     "text": [
      "4\n"
     ]
    }
   ],
   "source": [
    "p = 8\n",
    "q = 4\n",
    "print(p - q)"
   ]
  },
  {
   "cell_type": "code",
   "execution_count": 48,
   "id": "3e6e659f",
   "metadata": {},
   "outputs": [
    {
     "name": "stdout",
     "output_type": "stream",
     "text": [
      "[[ 7 76]\n",
      " [ 8 87]\n",
      " [ 4 68]\n",
      " [ 6 88]]\n"
     ]
    }
   ],
   "source": [
    "import numpy as np\n",
    "store = np.array([7, 8, 4, 6])\n",
    "cost  = np.array([76, 87, 68, 88])\n",
    "np_cols = np.column_stack((store, cost))\n",
    "print(np_cols)"
   ]
  },
  {
   "cell_type": "code",
   "execution_count": 50,
   "id": "4b1708b8",
   "metadata": {},
   "outputs": [
    {
     "name": "stdout",
     "output_type": "stream",
     "text": [
      "['0' 'True' 'python']\n"
     ]
    }
   ],
   "source": [
    "print(np.array([0, True, \"python\"]))"
   ]
  },
  {
   "cell_type": "code",
   "execution_count": 51,
   "id": "cec721b5",
   "metadata": {},
   "outputs": [
    {
     "name": "stdout",
     "output_type": "stream",
     "text": [
      "[[1 2]\n",
      " [0 1]]\n"
     ]
    }
   ],
   "source": [
    "fg=np.array([[ 1,  2,  3,  4,  5,  6],\n",
    "       [ 0,  1,  2,  3,  5,  8],\n",
    "       [ 1,  3,  6, 10, 15, 21]])\n",
    "print(fg[:2, :2])"
   ]
  },
  {
   "cell_type": "code",
   "execution_count": 54,
   "id": "995a58d9",
   "metadata": {},
   "outputs": [
    {
     "name": "stdout",
     "output_type": "stream",
     "text": [
      "Help on method_descriptor:\n",
      "\n",
      "reshape(...)\n",
      "    a.reshape(shape, order='C')\n",
      "    \n",
      "    Returns an array containing the same data with a new shape.\n",
      "    \n",
      "    Refer to `numpy.reshape` for full documentation.\n",
      "    \n",
      "    See Also\n",
      "    --------\n",
      "    numpy.reshape : equivalent function\n",
      "    \n",
      "    Notes\n",
      "    -----\n",
      "    Unlike the free function `numpy.reshape`, this method on `ndarray` allows\n",
      "    the elements of the shape parameter to be passed in as separate arguments.\n",
      "    For example, ``a.reshape(10, 11)`` is equivalent to\n",
      "    ``a.reshape((10, 11))``.\n",
      "\n"
     ]
    }
   ],
   "source": [
    "help(np.ndarray.reshape)"
   ]
  },
  {
   "cell_type": "code",
   "execution_count": null,
   "id": "a8f617d0",
   "metadata": {},
   "outputs": [],
   "source": []
  }
 ],
 "metadata": {
  "kernelspec": {
   "display_name": "Python 3 (ipykernel)",
   "language": "python",
   "name": "python3"
  },
  "language_info": {
   "codemirror_mode": {
    "name": "ipython",
    "version": 3
   },
   "file_extension": ".py",
   "mimetype": "text/x-python",
   "name": "python",
   "nbconvert_exporter": "python",
   "pygments_lexer": "ipython3",
   "version": "3.9.12"
  }
 },
 "nbformat": 4,
 "nbformat_minor": 5
}
