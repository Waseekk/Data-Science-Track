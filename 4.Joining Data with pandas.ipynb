{
 "cells": [
  {
   "cell_type": "markdown",
   "id": "68b6bc56",
   "metadata": {},
   "source": [
    "# 1.Data Merging Basics\n",
    "## 1.1 Inner join"
   ]
  },
  {
   "cell_type": "code",
   "execution_count": null,
   "id": "5270efe5",
   "metadata": {},
   "outputs": [],
   "source": []
  },
  {
   "cell_type": "code",
   "execution_count": 1,
   "id": "ed4b04b1",
   "metadata": {},
   "outputs": [
    {
     "name": "stdout",
     "output_type": "stream",
     "text": [
      "Index(['rid', 'vid', 'owner', 'address', 'zip'], dtype='object')\n",
      "Index(['vid', 'make', 'model', 'year', 'fuel_type', 'owner'], dtype='object')\n"
     ]
    }
   ],
   "source": [
    "import pandas as pd\n",
    "taxi_owners = pd.read_pickle('taxi_owners.p')\n",
    "taxi_veh=pd.read_pickle('G:\\\\datacamp\\\\4.Joining Data with pandas\\\\DataSets\\\\taxi_vehicles.p')\n",
    "biz_owners=pd.read_pickle('G:\\\\datacamp\\\\4.Joining Data with pandas\\\\DataSets\\\\business_owners.p')\n",
    "licenses=pd.read_pickle('G:\\\\datacamp\\\\4.Joining Data with pandas\\\\DataSets\\\\licenses.p')\n",
    "wards=pd.read_pickle('G:\\\\datacamp\\\\4.Joining Data with pandas\\\\DataSets\\\\ward.p')\n",
    "zip_demo=pd.read_pickle('G:\\\\datacamp\\\\4.Joining Data with pandas\\\\DataSets\\\\zip_demo.p')\n",
    "census=pd.read_pickle('G:\\\\datacamp\\\\4.Joining Data with pandas\\\\DataSets\\\\census.p')\n",
    "land_use=pd.read_pickle('G:\\\\datacamp\\\\4.Joining Data with pandas\\\\DataSets\\\\land_use.p')\n",
    "\n",
    "#print(pickel_file2)\n",
    "\n",
    "print(taxi_owners.columns)\n",
    "print(taxi_veh.columns)"
   ]
  },
  {
   "cell_type": "markdown",
   "id": "88af2c03",
   "metadata": {},
   "source": [
    "You have been tasked with figuring out what the most popular types of fuel used in Chicago taxis are."
   ]
  },
  {
   "cell_type": "code",
   "execution_count": 2,
   "id": "577a247b",
   "metadata": {},
   "outputs": [
    {
     "name": "stdout",
     "output_type": "stream",
     "text": [
      "Index(['rid', 'vid', 'owner_x', 'address', 'zip', 'make', 'model', 'year',\n",
      "       'fuel_type', 'owner_y'],\n",
      "      dtype='object')\n"
     ]
    }
   ],
   "source": [
    "taxi_own_veh=taxi_owners.merge(taxi_veh,on='vid')\n",
    "print(taxi_own_veh.columns)"
   ]
  },
  {
   "cell_type": "code",
   "execution_count": 3,
   "id": "e5b6656a",
   "metadata": {},
   "outputs": [
    {
     "name": "stdout",
     "output_type": "stream",
     "text": [
      "Index(['rid', 'vid', 'owner_own', 'address', 'zip', 'make', 'model', 'year',\n",
      "       'fuel_type', 'owner_veh'],\n",
      "      dtype='object')\n"
     ]
    }
   ],
   "source": [
    "taxi_own_veh=taxi_owners.merge(taxi_veh,on='vid',suffixes=('_own','_veh'))\n",
    "print(taxi_own_veh.columns)"
   ]
  },
  {
   "cell_type": "code",
   "execution_count": 4,
   "id": "2036d0e1",
   "metadata": {},
   "outputs": [
    {
     "name": "stdout",
     "output_type": "stream",
     "text": [
      "HYBRID                    2792\n",
      "GASOLINE                   611\n",
      "FLEX FUEL                   89\n",
      "COMPRESSED NATURAL GAS      27\n",
      "Name: fuel_type, dtype: int64\n"
     ]
    }
   ],
   "source": [
    "print(taxi_own_veh['fuel_type'].value_counts())"
   ]
  },
  {
   "cell_type": "markdown",
   "id": "2a2fec9b",
   "metadata": {},
   "source": [
    "## 1.2One-to-many relationships\n",
    "In a one-to-one relationship, every row in the left table is related to one and only one row in the right table.  in a one-to-many relationship, every row in the left table is related to one or more rows in the right table.\n",
    "\n",
    "\n",
    "\n",
    "### One-to-many merge\n",
    "A business may have one or multiple owners. In this exercise, you will continue to gain experience with one-to-many merges by merging a table of business owners, called biz_owners, to the licenses table. "
   ]
  },
  {
   "cell_type": "code",
   "execution_count": 14,
   "id": "fb4e946d",
   "metadata": {},
   "outputs": [
    {
     "name": "stdout",
     "output_type": "stream",
     "text": [
      "                    account\n",
      "title                      \n",
      "ASST. SECRETARY         111\n",
      "BENEFICIARY               4\n",
      "CEO                     110\n",
      "DIRECTOR                146\n",
      "EXECUTIVE DIRECTOR       10\n",
      "GENERAL PARTNER          21\n",
      "INDIVIDUAL              268\n",
      "LIMITED PARTNER          26\n",
      "MANAGER                 134\n",
      "MANAGING MEMBER         878\n",
      "MEMBER                  884\n",
      "NOT APPLICABLE           11\n",
      "OTHER                  1200\n",
      "PARTNER                 451\n",
      "PRESIDENT              6259\n",
      "PRINCIPAL OFFICER        63\n",
      "SECRETARY              5205\n",
      "SHAREHOLDER             590\n",
      "SOLE PROPRIETOR        1658\n",
      "SPOUSE                   34\n",
      "TREASURER               447\n",
      "TRUSTEE                   6\n",
      "VICE PRESIDENT          970\n",
      "title            account\n",
      "ASST. SECRETARY  16301      3\n",
      "                 57770      3\n",
      "                 11071      2\n",
      "                 16964      2\n",
      "                 1949       2\n",
      "                           ..\n",
      "VICE PRESIDENT   85943      1\n",
      "                 85956      1\n",
      "                 86083      1\n",
      "                 86202      1\n",
      "                 86216      1\n",
      "Name: account, Length: 17934, dtype: int64\n",
      "                 account\n",
      "title                   \n",
      "PRESIDENT           6259\n",
      "SECRETARY           5205\n",
      "SOLE PROPRIETOR     1658\n",
      "OTHER               1200\n",
      "VICE PRESIDENT       970\n"
     ]
    }
   ],
   "source": [
    "# Merge the licenses and biz_owners table on account\n",
    "licenses_owners=licenses.merge(biz_owners,on='account')\n",
    "#print(licenses_owners)\n",
    "\n",
    "# Group the results by title then count the number of accounts\n",
    "counted_df = licenses_owners.groupby('title').agg({'account':'count'})  #**notice the agg mehod**\n",
    "counted_df2 = licenses_owners.groupby('title')['account'].value_counts()\n",
    "print(counted_df)\n",
    "print(counted_df2)\n",
    "\n",
    "# Sort the counted_df in desending order\n",
    "sorted_df = counted_df.sort_values('account', ascending=False)\n",
    "\n",
    "print(sorted_df.head())"
   ]
  },
  {
   "cell_type": "markdown",
   "id": "e539e063",
   "metadata": {},
   "source": [
    "## 1.3 Merging multiple DataFrames "
   ]
  },
  {
   "cell_type": "markdown",
   "id": "94e00835",
   "metadata": {},
   "source": [
    "### Total riders in a month\n",
    "Your goal is to find the total number of rides provided to passengers passing through the Wilson station (station_name == 'Wilson') when riding Chicago's public transportation system on weekdays (day_type == 'Weekday') in July (month == 7). Luckily, Chicago provides this detailed data, but it is in three different tables. You will work on merging these tables together to answer the question. This data is different from the business related data you have seen so far, but all the information you need to answer the question is provided"
   ]
  },
  {
   "cell_type": "code",
   "execution_count": 15,
   "id": "6066276f",
   "metadata": {},
   "outputs": [
    {
     "name": "stdout",
     "output_type": "stream",
     "text": [
      "Index(['station_id', 'year', 'month', 'day', 'rides', 'day_type',\n",
      "       'station_name', 'location'],\n",
      "      dtype='object')\n"
     ]
    }
   ],
   "source": [
    "import pandas as pd\n",
    "\n",
    "cal=pd.read_pickle('G:\\\\datacamp\\\\4.Joining Data with pandas\\\\DataSets\\\\cta_calendar.p')\n",
    "ridership=pd.read_pickle('G:\\\\datacamp\\\\4.Joining Data with pandas\\\\DataSets\\\\cta_ridership.p')\n",
    "stations=pd.read_pickle('G:\\\\datacamp\\\\4.Joining Data with pandas\\\\DataSets\\\\stations.p')\n",
    "\n",
    "\n",
    "ridership_cal_stations = ridership.merge(cal,on=['year','month','day'])\\\n",
    ".merge(stations,on='station_id')\n",
    "print(ridership_cal_stations.columns)"
   ]
  },
  {
   "cell_type": "code",
   "execution_count": null,
   "id": "a2a50ca9",
   "metadata": {},
   "outputs": [],
   "source": [
    "# Create a filter to filter ridership_cal_stations\n",
    "filter_criteria = ((ridership_cal_stations['month'] == 7) \n",
    "                   & (ridership_cal_stations['day_type'] == 'Weekday') \n",
    "                   & (ridership_cal_stations['station_name'] == 'Wilson'))\n",
    "print(ridership_cal_stations)\n",
    "\n",
    "# Use .loc and the filter to select for rides\n",
    "print(ridership_cal_stations.loc[filter_criteria,'rides'].sum())           ###THIS FILTER AND .LOC METHOD"
   ]
  },
  {
   "cell_type": "markdown",
   "id": "bf07350a",
   "metadata": {},
   "source": [
    "### Three table merge\n",
    "To solidify the concept of a three DataFrame merge, practice another exercise. A reasonable extension of our review of Chicago business data would include looking at demographics information about the neighborhoods where the businesses are. A table with the median income by zip code has been provided to you. "
   ]
  },
  {
   "cell_type": "code",
   "execution_count": null,
   "id": "02143742",
   "metadata": {},
   "outputs": [],
   "source": [
    "# Merge licenses and zip_demo, on zip; and merge the wards on ward\n",
    "licenses_zip_ward = licenses.merge(zip_demo,on='zip') \\\n",
    "            \t\t\t.merge(wards,on='ward')\n",
    "\n",
    "print(licenses_zip_ward)\n",
    "\n",
    "# Print the results by alderman and show median income\n",
    "print(licenses_zip_ward.groupby('alderman').agg({'income':'median'}))"
   ]
  },
  {
   "cell_type": "markdown",
   "id": "5f5e2f3d",
   "metadata": {},
   "source": [
    "### One-to-many merge with multiple tables\n",
    "In this exercise, assume that you are looking to start a business in the city of Chicago. Your perfect idea is to start a company that uses goats to mow the lawn for other businesses. However, you have to choose a location in the city to put your goat farm. You need a location with a great deal of space and relatively few businesses and people around to avoid complaints about the smell. You will need to merge three tables to help you choose your location. \n",
    "\n",
    "The land_use table has info on the percentage of vacant land by city ward. \n",
    "The census table has population by ward, and \n",
    "the licenses table lists businesses by ward."
   ]
  },
  {
   "cell_type": "code",
   "execution_count": 20,
   "id": "8940a435",
   "metadata": {},
   "outputs": [
    {
     "name": "stdout",
     "output_type": "stream",
     "text": [
      "                      account\n",
      "ward pop_2010 vacant         \n",
      "1    56149    2           253\n",
      "10   51535    14          130\n",
      "11   51497    5           201\n",
      "12   52235    4           255\n",
      "13   53722    1           101\n",
      "14   54031    3           202\n",
      "15   51501    6           103\n",
      "16   51954    13          156\n",
      "17   51846    5           109\n",
      "18   52992    3           124\n",
      "19   51525    0           125\n",
      "2    55805    2           301\n",
      "20   52372    15          123\n",
      "21   51632    5           123\n",
      "22   53515    7           156\n",
      "23   53728    1           147\n",
      "24   54909    13           98\n",
      "25   54539    5           321\n",
      "26   53516    2           175\n",
      "27   52939    7           497\n",
      "28   55199    11          189\n",
      "29   55267    2           154\n",
      "3    53039    13          173\n",
      "30   55560    1           186\n",
      "31   53724    0           173\n",
      "32   55184    1           248\n",
      "33   55598    1           208\n",
      "34   51599    7            99\n",
      "35   55281    1           169\n",
      "36   54766    1           145\n",
      "37   51538    6           173\n",
      "38   56001    0           136\n",
      "39   55882    1           219\n",
      "4    54589    7           160\n",
      "40   55319    0           194\n",
      "41   55991    0           153\n",
      "42   55870    1          1371\n",
      "43   56170    1           232\n",
      "44   56058    0           238\n",
      "45   55967    0           217\n",
      "46   53784    1           143\n",
      "47   55074    0           275\n",
      "48   55014    1           156\n",
      "49   54633    0           111\n",
      "5    51455    3           104\n",
      "50   55809    1           168\n",
      "6    52341    8           149\n",
      "7    51581    19           80\n",
      "8    51687    5           176\n",
      "9    51519    6           101\n"
     ]
    }
   ],
   "source": [
    "# Merge land_use and census and merge result with licenses including suffixes\n",
    "land_cen_lic = land_use.merge(census, on='ward') \\\n",
    "                    .merge(licenses, on='ward', suffixes=('_cen','_lic'))\n",
    "\n",
    "# Group by ward, pop_2010, and vacant, then count the # of accounts\n",
    "pop_vac_lic = land_cen_lic.groupby(['ward','pop_2010','vacant'], \n",
    "                                   as_index=False).agg({'account':'count'})\n",
    "print(pop_vac_lic)\n",
    "# Sort pop_vac_lic and print the results\n",
    "sorted_pop_vac_lic = pop_vac_lic.sort_values(['vacant','account','pop_2010'], ascending=[False, True, True])\n",
    "\n",
    "# Print the top few rows of sorted_pop_vac_lic\n",
    "#print(sorted_pop_vac_lic.head())"
   ]
  },
  {
   "cell_type": "markdown",
   "id": "9b8f6622",
   "metadata": {},
   "source": [
    "# 2.Merging Tables With Different Join Types\n",
    "## 2.1 Left Join\n",
    ". A left join returns all rows of data from the left table and only those rows from the right table where key columns match."
   ]
  },
  {
   "cell_type": "code",
   "execution_count": 22,
   "id": "1aa1b5d6",
   "metadata": {},
   "outputs": [
    {
     "name": "stdout",
     "output_type": "stream",
     "text": [
      "(4803, 4) (3955, 2) (3229, 3)\n"
     ]
    }
   ],
   "source": [
    "\n",
    "movies=pd.read_pickle('G:\\\\datacamp\\\\4.Joining Data with pandas\\\\DataSets\\\\movies.p')\n",
    "taglines=pd.read_pickle('G:\\\\datacamp\\\\4.Joining Data with pandas\\\\DataSets\\\\taglines.p')\n",
    "financials=pd.read_pickle('G:\\\\datacamp\\\\4.Joining Data with pandas\\\\DataSets\\\\financials.p')\n",
    "movie_to_genres=pd.read_pickle('G:\\\\datacamp\\\\4.Joining Data with pandas\\\\DataSets\\\\movie_to_genres.p')\n",
    "print(movies.shape,taglines.shape,financials.shape)\n"
   ]
  },
  {
   "cell_type": "markdown",
   "id": "ed0c380a",
   "metadata": {},
   "source": [
    "### 2..1.1 Counting missing rows with left join\n",
    "The Movie Database is supported by volunteers going out into the world, collecting data, and entering it into the database. This includes financial data, such as movie budget and revenue. If you wanted to know which movies are still missing data, you could use a left join to identify them. "
   ]
  },
  {
   "cell_type": "code",
   "execution_count": 29,
   "id": "ffbd537f",
   "metadata": {},
   "outputs": [
    {
     "name": "stdout",
     "output_type": "stream",
     "text": [
      "1574\n"
     ]
    }
   ],
   "source": [
    "# Merge the movies table with the financials table with a left join\n",
    "movies_financials = movies.merge(financials, on='id', how='left')\n",
    "\n",
    "# Count the number of rows in the budget column that are \n",
    "number_of_missing_fin = movies_financials['budget'].isnull().sum()     ### isnull()  gives bool\n",
    "\n",
    "# Print the number of movies missing financials\n",
    "print(number_of_missing_fin)"
   ]
  },
  {
   "cell_type": "markdown",
   "id": "7655f4e8",
   "metadata": {},
   "source": [
    "### Enriching a dataset\n",
    "we can use it to enrich a data set. resulted table will have equal or more observations/rows than the left table"
   ]
  },
  {
   "cell_type": "markdown",
   "id": "85fdb20d",
   "metadata": {},
   "source": [
    "## 3//Other joins\n",
    "### 3.1//Right Join\n",
    "mirror opposite of left join . but additional feature is They allow us to tell the merge which key columns from each table to merge the tables. **left_on() , right_on()**\n",
    "\n",
    "### 3.2///Outer join\n",
    "An outer join will return all of the rows from both tables regardless if there is a match between the tables.\n",
    ".\n",
    ".\n",
    ".\n",
    ".\n",
    ".\n",
    "### Right join to find unique movies\n",
    "Most of the recent big-budget science fiction movies can also be classified as action movies. You are given a table of science fiction movies called scifi_movies and another table of action movies called action_movies. Your goal is to find which movies are considered only science fiction movies."
   ]
  },
  {
   "cell_type": "code",
   "execution_count": null,
   "id": "92af9c40",
   "metadata": {},
   "outputs": [],
   "source": [
    "#print(movie_to_genres)\n",
    "scifi_movies=movie_to_genres[movie_to_genres['genre']=='Science Fiction']\n",
    "action_movies=movie_to_genres[movie_to_genres['genre']=='Action']\n",
    "#print(scifi_movies,action_movies)\n",
    "\n",
    "\n",
    "\n",
    "# Merge action_movies to scifi_movies with right join\n",
    "action_scifi = action_movies.merge(scifi_movies, on='movie_id', how='right',suffixes=('_act','_sci'))\n",
    "#scifi_only=action_scifi[action_scifi['genre_act']=='Null']\n",
    "\n",
    "scifi_only = action_scifi[action_scifi['genre_act'].isnull()]\n",
    "print(scifi_only)"
   ]
  },
  {
   "cell_type": "markdown",
   "id": "24668864",
   "metadata": {},
   "source": [
    "If two table has two variable name or column name for the same values\n",
    "Merge movies and scifi_only using the id column in the left table and the movie_id column in the right table with an inner join."
   ]
  },
  {
   "cell_type": "code",
   "execution_count": null,
   "id": "0aca7c7d",
   "metadata": {},
   "outputs": [],
   "source": [
    "# Merge the movies and scifi_only tables with an inner join\n",
    "movies_and_scifi_only = movies.merge(scifi_only,left_on='id', right_on='movie_id')\n"
   ]
  },
  {
   "cell_type": "code",
   "execution_count": null,
   "id": "433056c2",
   "metadata": {},
   "outputs": [],
   "source": [
    "pop_movies_full=movies.sort_values('popularity',ascending=False)\n",
    "pop_movies=pop_movies_full.head(10)\n",
    "#print(pop_movies)"
   ]
  },
  {
   "cell_type": "markdown",
   "id": "cd50ba6a",
   "metadata": {},
   "source": [
    "### Popular genres with right join\n",
    "What are the genres of the most popular movies? To answer this question, you need to merge data from the movies and movie_to_genres tables. In a table called pop_movies, here, id and ovie id are two same columns with different variable nam e"
   ]
  },
  {
   "cell_type": "code",
   "execution_count": null,
   "id": "9c3e1ce4",
   "metadata": {},
   "outputs": [],
   "source": [
    "genres_movies=movie_to_genres.merge(pop_movies, left_on='movie_id', right_on='id', how='right')\n",
    "#print(movie_to_genres,pop_movies)\n",
    "\n",
    "\n",
    "\n",
    "# Use right join to merge the movie_to_genres and pop_movies tables\n",
    "genres_movies=movie_to_genres.merge(pop_movies, left_on='movie_id', right_on='id', how='right')\n",
    "\n",
    "# Count the number of genres\n",
    "genre_count = genres_movies.groupby('genre').agg({'id':'count'})\n",
    "\n",
    "# Plot a bar chart of the genre_count\n",
    "genre_count.plot(kind='bar')\n",
    "plt.show()"
   ]
  },
  {
   "cell_type": "code",
   "execution_count": null,
   "id": "00f3cfff",
   "metadata": {},
   "outputs": [],
   "source": [
    "\n",
    "###### not gonna run\n",
    "#Save to iron_1_and_2 the merge of iron_1_actors (left) with iron_2_actors tables with an outer join on the id column, and set suffixes to ('_1','_2').\n",
    "#Create an index that returns True if name_1 or name_2 are null, and False otherwise.\n",
    "\n",
    "\n",
    "# Merge iron_1_actors to iron_2_actors on id with outer join using suffixes\n",
    "iron_1_and_2 = iron_1_actors.merge(iron_2_actors,\n",
    "                                     on='id', suffixes=['_1','_2'], how='outer')\n",
    "\n",
    "#print(iron_1_actors)\n",
    "#print(iron_1_and_2)\n",
    "# Create an index that returns true if name_1 or name_2 are null\n",
    "m = ((iron_1_and_2['name_1'].isnull()) |  (iron_1_and_2['name_2'].isnull()))     ## or operator. index m retures bool\n",
    "\n",
    "# Print the first few rows of iron_1_and_2\n",
    "print(iron_1_and_2[m].head())"
   ]
  },
  {
   "cell_type": "markdown",
   "id": "002538ec",
   "metadata": {},
   "source": [
    "# 3.3 Merging a table to itself\n",
    "## Self join\n",
    "Merging a table to itself can be useful when you want to compare values in a column to other values in the same column. In this exercise, you will practice this by creating a table that for each movie will list the movie director and a member of the crew on one row. \n",
    "\n",
    ". You have been given a table called crews, which has columns id, job, and name. First, merge the table to itself using the movie ID. This merge will give you a larger table where for each movie, every job is matched against each other. Then select only those rows with a director in the left table, and avoid having a row where the director's job is listed in both the left and right tables. This filtering will remove job combinations that aren't with the director.\n",
    "\n",
    "\n",
    "The pandas module limits you to one merge where you merge a table to itself. You cannot repeat this process over and over."
   ]
  },
  {
   "cell_type": "code",
   "execution_count": 30,
   "id": "c933103f",
   "metadata": {},
   "outputs": [
    {
     "name": "stdout",
     "output_type": "stream",
     "text": [
      "Index(['id', 'department', 'job', 'name'], dtype='object')\n",
      "           id department_dir   job_dir           name_dir department_crew  \\\n",
      "0       19995        Editing    Editor  Stephen E. Rivkin         Editing   \n",
      "1       19995        Editing    Editor  Stephen E. Rivkin           Sound   \n",
      "2       19995        Editing    Editor  Stephen E. Rivkin      Production   \n",
      "3       19995        Editing    Editor  Stephen E. Rivkin       Directing   \n",
      "4       19995        Editing    Editor  Stephen E. Rivkin         Writing   \n",
      "...       ...            ...       ...                ...             ...   \n",
      "834189  25975      Directing  Director           Jon Gunn       Directing   \n",
      "834190  25975      Directing  Director         Brett Winn      Production   \n",
      "834191  25975      Directing  Director         Brett Winn       Directing   \n",
      "834192  25975      Directing  Director         Brett Winn       Directing   \n",
      "834193  25975      Directing  Director         Brett Winn       Directing   \n",
      "\n",
      "                  job_crew          name_crew  \n",
      "0                   Editor  Stephen E. Rivkin  \n",
      "1           Sound Designer  Christopher Boyes  \n",
      "2                  Casting          Mali Finn  \n",
      "3                 Director      James Cameron  \n",
      "4                   Writer      James Cameron  \n",
      "...                    ...                ...  \n",
      "834189            Director         Brett Winn  \n",
      "834190  Executive Producer     Clark Peterson  \n",
      "834191            Director   Brian Herzlinger  \n",
      "834192            Director           Jon Gunn  \n",
      "834193            Director         Brett Winn  \n",
      "\n",
      "[834194 rows x 7 columns]\n",
      "            id department_dir   job_dir          name_dir department_crew  \\\n",
      "156      19995      Directing  Director     James Cameron         Editing   \n",
      "157      19995      Directing  Director     James Cameron           Sound   \n",
      "158      19995      Directing  Director     James Cameron      Production   \n",
      "160      19995      Directing  Director     James Cameron         Writing   \n",
      "161      19995      Directing  Director     James Cameron             Art   \n",
      "...        ...            ...       ...               ...             ...   \n",
      "834166   72766      Directing  Director      Edward Burns         Editing   \n",
      "834174  231617      Directing  Director       Scott Smith      Production   \n",
      "834182   25975      Directing  Director  Brian Herzlinger      Production   \n",
      "834186   25975      Directing  Director          Jon Gunn      Production   \n",
      "834190   25975      Directing  Director        Brett Winn      Production   \n",
      "\n",
      "                  job_crew          name_crew  \n",
      "156                 Editor  Stephen E. Rivkin  \n",
      "157         Sound Designer  Christopher Boyes  \n",
      "158                Casting          Mali Finn  \n",
      "160                 Writer      James Cameron  \n",
      "161           Set Designer    Richard F. Mays  \n",
      "...                    ...                ...  \n",
      "834166              Editor       Janet Gaynor  \n",
      "834174  Executive Producer        Scott Smith  \n",
      "834182  Executive Producer     Clark Peterson  \n",
      "834186  Executive Producer     Clark Peterson  \n",
      "834190  Executive Producer     Clark Peterson  \n",
      "\n",
      "[40845 rows x 7 columns]\n"
     ]
    }
   ],
   "source": [
    "crews=pd.read_pickle('G:\\\\datacamp\\\\4.Joining Data with pandas\\\\DataSets\\\\crews.p')\n",
    "print(crews.columns)\n",
    "\n",
    "\n",
    "# Merge the crews table to itself\n",
    "crews_self_merged = crews.merge(crews, on='id', how='inner',\n",
    "                                suffixes=('_dir','_crew'))\n",
    "\n",
    "                                \n",
    "print(crews_self_merged)\n",
    "# Create a Boolean index to select the appropriate                  ##Create a Boolean index, named boolean_filter, that selects rows from the left.\n",
    "boolean_filter = ((crews_self_merged['job_dir'] == 'Director') &   # table with the job of 'Director' and avoids rows with the job of 'Director' in the right table\n",
    "     (crews_self_merged['job_crew'] != 'Director'))\n",
    "direct_crews = crews_self_merged[boolean_filter]\n",
    "print(direct_crews)"
   ]
  },
  {
   "cell_type": "markdown",
   "id": "85e9d146",
   "metadata": {},
   "source": [
    "## Merging on indexes\n",
    "### Index merge for movie ratings\n",
    "To practice merging on indexes, you will merge movies and a table called ratings that holds info about movie ratings. Make sure your merge returns all of the rows from the movies table and not all the rows of ratings table need to be included in the result."
   ]
  },
  {
   "cell_type": "code",
   "execution_count": null,
   "id": "c524b925",
   "metadata": {},
   "outputs": [],
   "source": [
    "ratings=pd.read_pickle('G:\\\\datacamp\\\\4.Joining Data with pandas\\\\DataSets\\\\ratings.p')\n",
    "print(ratings)\n",
    "\n",
    "#Merge movies and ratings on the index and save to a variable called movies_ratings, ensuring that all of the rows from the\n",
    "#movies table are returned.\n",
    "# Merge to the movies table the ratings table on the index\n",
    "movies_ratings = movies.merge(ratings,on='id',how='left')\n",
    "\n",
    "# Print the first few rows of movies_ratings\n",
    "print(movies_ratings.head())"
   ]
  },
  {
   "cell_type": "markdown",
   "id": "53677276",
   "metadata": {},
   "source": [
    "### Do sequels earn more?\n",
    "It is time to put together many of the aspects that you have learned in this chapter. In this exercise, you'll find out which movie sequels earned the most compared to the original movie. To answer this question, you will merge a modified version of the sequels and financials tables where their index is the movie ID. You will need to choose a merge type that will return all of the rows from the sequels table and not all the rows of financials table need to be included in the result. From there, you will join the resulting table to itself so that you can compare the revenue values of the original movie to the sequel. Next, you will calculate the difference between the two revenues and sort the resulting dataset."
   ]
  },
  {
   "cell_type": "code",
   "execution_count": null,
   "id": "9ff847da",
   "metadata": {},
   "outputs": [],
   "source": []
  },
  {
   "cell_type": "code",
   "execution_count": null,
   "id": "63c400a8",
   "metadata": {},
   "outputs": [],
   "source": [
    "sequels=pd.read_pickle('G:\\\\datacamp\\\\4.Joining Data with pandas\\\\DataSets\\\\sequels.p')\n",
    "print(sequels.columns,financials.columns)\n",
    "\n",
    "#With the sequels table on the left, merge to it the financials table on index named id, ensuring that all the rows from \n",
    "#the sequels are returned and some rows from the other table may not be returned, Save the results to sequels_fin.\n",
    "\n",
    "sequels_fin = sequels.merge(financials,on='id',how='left')\n",
    "\n",
    "print(sequels_fin)\n",
    "#Merge the sequels_fin table to itself with an inner join, where the left and right tables merge on sequel and id \n",
    "#respectively with suffixes equal to ('_org','_seq'), saving to orig_seq\n",
    "orig_seq = sequels_fin.merge(sequels_fin, how='inner', left_on='sequel', \n",
    "                             right_on='id', right_index=True,\n",
    "                             suffixes=['_org','_seq'])    ##int() argument must be a string, a bytes-like object or a number, not 'NAType'\n",
    "##Nan value er jonno pera hochhe. we can solve it. but datacamp er window te eta inpur niye result dise\n",
    "\n",
    "\n",
    "print(orig_seq)      \n",
    "\n",
    "\n",
    "# Add calculation to subtract revenue_org from revenue_seq \n",
    "orig_seq['diff'] = orig_seq['revenue_seq'] - orig_seq['revenue_org']\n",
    "\n",
    "# Select the title_org, title_seq, and diff \n",
    "titles_diff = orig_seq[['title_org','title_seq','diff']]\n",
    "\n",
    "# Print the first rows of the sorted titles_diff\n",
    "print(titles_diff.sort_values('diff', ascending=False).head())"
   ]
  },
  {
   "cell_type": "markdown",
   "id": "4b94d326",
   "metadata": {},
   "source": [
    " Additionally, since we are merging on indexes, we need to set left_index and right_index to True. These arguments take only True or False. Whenever we are using the left_on or right_on arguments with an index, we need to set the respective left_index and right_index arguments to True. The left_index and right_index tell the merge method to use the separate indexes."
   ]
  },
  {
   "cell_type": "markdown",
   "id": "ec9809ca",
   "metadata": {},
   "source": [
    "# 3.Advanced Merging and Concatenating\n",
    "## 3.1 Filtering joins-semi join and anti join\n",
    "### Semi join\n",
    "A semi join filters the left table down to those observations that have a match in the right table. It is similar to an inner join where only the intersection between the tables is returned, but unlike an inner join, only the columns from the left table are shown. Finally, no duplicate rows from the left table are returned, even if there is a one-to-many relationship. \n",
    "\n",
    "### anti join\n",
    " An anti join returns the observations in the left table that do not have a matching observation in the right table. It also only returns the columns from the left table"
   ]
  },
  {
   "cell_type": "markdown",
   "id": "dfba8ce7",
   "metadata": {},
   "source": [
    "### Performing an anti join\n",
    "In our music streaming company dataset, each customer is assigned an employee representative to assist them. In this exercise, filter the employee table by a table of top customers, returning only those employees who are not assigned to a customer. The results should resemble the results of an anti join. The company's leadership will assign these employees additional training so that they can work with high valued customers.\n",
    "\n",
    "The top_cust and employees tables have been provided for you. table data NNNNNNNNAAAAAAAAAIIIIIIIIIII\n",
    "\n",
    "**** we'll use the indicator argument and set it to True. With indicator set to True, the merge method adds a column called \"_merge\" to the output. This column tells the source of each row. For example, the first four rows found a match in both tables, whereas the last can only be found in the left table.***"
   ]
  },
  {
   "cell_type": "code",
   "execution_count": 31,
   "id": "ec18d6c7",
   "metadata": {},
   "outputs": [
    {
     "ename": "NameError",
     "evalue": "name 'employees' is not defined",
     "output_type": "error",
     "traceback": [
      "\u001b[1;31m---------------------------------------------------------------------------\u001b[0m",
      "\u001b[1;31mNameError\u001b[0m                                 Traceback (most recent call last)",
      "Input \u001b[1;32mIn [31]\u001b[0m, in \u001b[0;36m<cell line: 2>\u001b[1;34m()\u001b[0m\n\u001b[0;32m      1\u001b[0m \u001b[38;5;66;03m# Merge employees and top_cust\u001b[39;00m\n\u001b[1;32m----> 2\u001b[0m empl_cust \u001b[38;5;241m=\u001b[39m \u001b[43memployees\u001b[49m\u001b[38;5;241m.\u001b[39mmerge(top_cust, on\u001b[38;5;241m=\u001b[39m\u001b[38;5;124m'\u001b[39m\u001b[38;5;124msrid\u001b[39m\u001b[38;5;124m'\u001b[39m, \n\u001b[0;32m      3\u001b[0m                             how\u001b[38;5;241m=\u001b[39m\u001b[38;5;124m'\u001b[39m\u001b[38;5;124mleft\u001b[39m\u001b[38;5;124m'\u001b[39m, indicator\u001b[38;5;241m=\u001b[39m\u001b[38;5;28;01mTrue\u001b[39;00m)\n\u001b[0;32m      5\u001b[0m \u001b[38;5;66;03m###Select the srid column of empl_cust and the rows where _merge is 'left_only'. Save the result to srid_list\u001b[39;00m\n\u001b[0;32m      6\u001b[0m \u001b[38;5;66;03m# Select the srid column where _merge is left_only\u001b[39;00m\n\u001b[0;32m      7\u001b[0m srid_list \u001b[38;5;241m=\u001b[39m empl_cust\u001b[38;5;241m.\u001b[39mloc[empl_cust[\u001b[38;5;124m'\u001b[39m\u001b[38;5;124m_merge\u001b[39m\u001b[38;5;124m'\u001b[39m] \u001b[38;5;241m==\u001b[39m \u001b[38;5;124m'\u001b[39m\u001b[38;5;124mleft_only\u001b[39m\u001b[38;5;124m'\u001b[39m, \u001b[38;5;124m'\u001b[39m\u001b[38;5;124msrid\u001b[39m\u001b[38;5;124m'\u001b[39m]\n",
      "\u001b[1;31mNameError\u001b[0m: name 'employees' is not defined"
     ]
    }
   ],
   "source": [
    "# Merge employees and top_cust\n",
    "empl_cust = employees.merge(top_cust, on='srid', \n",
    "                            how='left', indicator=True)\n",
    "\n",
    "###Select the srid column of empl_cust and the rows where _merge is 'left_only'. Save the result to srid_list\n",
    "# Select the srid column where _merge is left_only\n",
    "srid_list = empl_cust.loc[empl_cust['_merge'] == 'left_only', 'srid']\n",
    "\n",
    "\n",
    "# Get employees not working with top customers\n",
    "print(employees[employees['srid'].isin(srid_list)])"
   ]
  },
  {
   "cell_type": "markdown",
   "id": "022914b1",
   "metadata": {},
   "source": [
    "### Performing a semi join\n",
    "Some of the tracks that have generated the most significant amount of revenue are from TV-shows or are other non-musical audio. You have been given a table of invoices that include top revenue-generating items. Additionally, you have a table of non-musical tracks from the streaming service. In this exercise, you'll use a semi join to find the top revenue-generating non-musical tracks..\n",
    "\n",
    "The tables non_mus_tcks, top_invoices, and genres have NOOOOTTT been loaded for you. ***check it**"
   ]
  },
  {
   "cell_type": "code",
   "execution_count": null,
   "id": "1fd387ea",
   "metadata": {},
   "outputs": [],
   "source": [
    "# Merge the non_mus_tck and top_invoices tables on tid\n",
    "tracks_invoices = non_mus_tcks.merge(top_invoices, on='tid')\n",
    "\n",
    "# Use .isin() to subset non_mus_tcsk to rows with tid in tracks_invoices\n",
    "top_tracks = non_mus_tcks[non_mus_tcks['tid'].isin(tracks_invoices['tid'])]\n",
    "\n",
    " \n",
    "# Group the top_tracks by gid and count the tid rows\n",
    "cnt_by_gid = top_tracks.groupby(['gid'], as_index=False).agg({'tid':'count'})\n",
    "\n",
    "# Merge the genres table to cnt_by_gid on gid and print\n",
    "print(cnt_by_gid.merge(genres, on='gid'))"
   ]
  },
  {
   "cell_type": "markdown",
   "id": "25cbe19f",
   "metadata": {},
   "source": [
    "### Concatenate DataFrames together vertically\n",
    "see pdf/// ch 3"
   ]
  },
  {
   "cell_type": "code",
   "execution_count": null,
   "id": "bcf70db1",
   "metadata": {},
   "outputs": [],
   "source": [
    "# Concatenate the tracks so the index goes from 0 to n-1\n",
    "tracks_from_albums = pd.concat([tracks_master,tracks_ride,tracks_st],\n",
    "                               ignore_index=True,\n",
    "                               sort=True)               ##See the THIRD BRACKET to specify the tables???\n",
    "print(tracks_from_albums)"
   ]
  },
  {
   "cell_type": "code",
   "execution_count": null,
   "id": "6532c434",
   "metadata": {},
   "outputs": [],
   "source": [
    "# Concatenate the tracks, show only columns names that are in all tables\n",
    "tracks_from_albums = pd.concat([tracks_master,tracks_ride,tracks_st],\n",
    "                               join='inner',\n",
    "                               sort=True)           ###join argument\n",
    "print(tracks_from_albums)"
   ]
  },
  {
   "cell_type": "markdown",
   "id": "bf934ce6",
   "metadata": {},
   "source": [
    "### Concatenating with keys\n",
    "The leadership of the music streaming company has come to you and asked you for assistance in analyzing sales for a recent business quarter. They would like to know which month in the quarter saw the highest average invoice total. You have been given three tables with invoice data named inv_jul, inv_aug, and inv_sep. Concatenate these tables into one to create a graph of the average monthly invoice total."
   ]
  },
  {
   "cell_type": "code",
   "execution_count": 32,
   "id": "fb8bad55",
   "metadata": {},
   "outputs": [
    {
     "ename": "NameError",
     "evalue": "name 'inv_jul' is not defined",
     "output_type": "error",
     "traceback": [
      "\u001b[1;31m---------------------------------------------------------------------------\u001b[0m",
      "\u001b[1;31mNameError\u001b[0m                                 Traceback (most recent call last)",
      "Input \u001b[1;32mIn [32]\u001b[0m, in \u001b[0;36m<cell line: 6>\u001b[1;34m()\u001b[0m\n\u001b[0;32m      4\u001b[0m \u001b[38;5;28;01mimport\u001b[39;00m \u001b[38;5;21;01mnumpy\u001b[39;00m \u001b[38;5;28;01mas\u001b[39;00m \u001b[38;5;21;01mnp\u001b[39;00m\n\u001b[0;32m      5\u001b[0m \u001b[38;5;66;03m# Concatenate the tables and add keys\u001b[39;00m\n\u001b[1;32m----> 6\u001b[0m inv_jul_thr_sep \u001b[38;5;241m=\u001b[39m pd\u001b[38;5;241m.\u001b[39mconcat([\u001b[43minv_jul\u001b[49m,inv_aug,inv_sep], \n\u001b[0;32m      7\u001b[0m                             keys\u001b[38;5;241m=\u001b[39m[\u001b[38;5;124m'\u001b[39m\u001b[38;5;124m7Jul\u001b[39m\u001b[38;5;124m'\u001b[39m,\u001b[38;5;124m'\u001b[39m\u001b[38;5;124m8Aug\u001b[39m\u001b[38;5;124m'\u001b[39m,\u001b[38;5;124m'\u001b[39m\u001b[38;5;124m9Sep\u001b[39m\u001b[38;5;124m'\u001b[39m])\n\u001b[0;32m      9\u001b[0m \u001b[38;5;66;03m# Group the invoices by the index keys and find avg of the total column\u001b[39;00m\n\u001b[0;32m     10\u001b[0m avg_inv_by_month \u001b[38;5;241m=\u001b[39m inv_jul_thr_sep\u001b[38;5;241m.\u001b[39mgroupby(level\u001b[38;5;241m=\u001b[39m\u001b[38;5;241m0\u001b[39m)\u001b[38;5;241m.\u001b[39magg({\u001b[38;5;124m'\u001b[39m\u001b[38;5;124mtotal\u001b[39m\u001b[38;5;124m'\u001b[39m:\u001b[38;5;124m'\u001b[39m\u001b[38;5;124mmean\u001b[39m\u001b[38;5;124m'\u001b[39m})\n",
      "\u001b[1;31mNameError\u001b[0m: name 'inv_jul' is not defined"
     ]
    }
   ],
   "source": [
    "\n",
    "##########2 extra things to notice, agg({}) method and .plot(kind='')#########\n",
    "\n",
    "\n",
    "import numpy as np\n",
    "# Concatenate the tables and add keys\n",
    "inv_jul_thr_sep = pd.concat([inv_jul,inv_aug,inv_sep], \n",
    "                            keys=['7Jul','8Aug','9Sep'])\n",
    "\n",
    "# Group the invoices by the index keys and find avg of the total column\n",
    "avg_inv_by_month = inv_jul_thr_sep.groupby(level=0).agg({'total':'mean'})\n",
    "\n",
    "# Bar plot of avg_inv_by_month\n",
    "avg_inv_by_month.plot(kind='bar')\n",
    "plt.show()"
   ]
  },
  {
   "cell_type": "markdown",
   "id": "8744c4f4",
   "metadata": {},
   "source": [
    "#### Using the append method\n",
    "The .concat() method is excellent when you need a lot of control over how concatenation is performed. However, if you do not need as much control, then the .append() method is another option. You'll try this method out by appending the track lists together from different Metallica albums. From there, you will merge it with the invoice_items table to determine which track sold the most."
   ]
  },
  {
   "cell_type": "code",
   "execution_count": null,
   "id": "6511df64",
   "metadata": {},
   "outputs": [],
   "source": [
    "# Use the .append() method to combine the tracks tables\n",
    "metallica_tracks = tracks_ride.append([tracks_master,tracks_st], sort=False)\n",
    "\n",
    "# Merge metallica_tracks and invoice_items\n",
    "tracks_invoices = metallica_tracks.merge(invoice_items,on='tid',how='inner')\n",
    "\n",
    "# For each tid and name sum the quantity sold\n",
    "tracks_sold = tracks_invoices.groupby(['tid','name']).agg({'quantity':'sum'})\n",
    "\n",
    "# Sort in decending order by quantity and print the results\n",
    "print(tracks_sold.sort_values('quantity',ascending=False))"
   ]
  },
  {
   "cell_type": "markdown",
   "id": "a191f59e",
   "metadata": {},
   "source": [
    "#### Verifying integrity"
   ]
  },
  {
   "cell_type": "code",
   "execution_count": null,
   "id": "49de3c98",
   "metadata": {},
   "outputs": [],
   "source": [
    "# Concatenate the classic tables vertically\n",
    "classic_18_19 = pd.concat([classic_18,classic_19],ignore_index=True)\n",
    "\n",
    "# Concatenate the pop tables vertically\n",
    "pop_18_19 = pd.concat([pop_18,pop_19],ignore_index=True)"
   ]
  },
  {
   "attachments": {
    "merge%20vs%20merge.ordered.png": {
     "image/png": "[encoded data removed]"
    }
   },
   "cell_type": "markdown",
   "id": "fad7102a",
   "metadata": {},
   "source": [
    "![merge%20vs%20merge.ordered.png](attachment:merge%20vs%20merge.ordered.png)"
   ]
  },
  {
   "cell_type": "markdown",
   "id": "c98be274",
   "metadata": {},
   "source": [
    "# 4.Merging Ordered and Time-Series Data\n",
    "## 4.1merge_ordered()\n",
    "### Correlation between GDP and S&P500\n",
    "In this exercise, you want to analyze stock returns from the S&P 500. You believe there may be a relationship between the returns of the S&P 500 and the GDP of the US. Merge the different datasets together to compute the correlation.\n",
    "\n",
    "Two tables have been provided for you, named sp500, and gdp.\n",
    "\n"
   ]
  },
  {
   "cell_type": "code",
   "execution_count": null,
   "id": "7b3823b6",
   "metadata": {},
   "outputs": [],
   "source": [
    "##GDP\n",
    " country code  year        gdp\n",
    "3           USA  2010  1.499e+13\n",
    "7           USA  2011  1.554e+13\n",
    "11          USA  2012  1.620e+13\n",
    "15          USA  2012  1.620e+13\n",
    "19          USA  2013  1.678e+13\n",
    "23          USA  2014  1.752e+13\n",
    "27          USA  2015  1.822e+13\n",
    "31          USA  2016  1.871e+13\n",
    "35          USA  2017  1.949e+13\n",
    "39          USA  2018  2.049e+13    date  returns"
   ]
  },
  {
   "cell_type": "code",
   "execution_count": null,
   "id": "9457c5ad",
   "metadata": {},
   "outputs": [],
   "source": [
    "##SP500\n",
    "0  2008   -38.49\n",
    "1  2009    23.45\n",
    "2  2010    12.78\n",
    "3  2011     0.00\n",
    "4  2012    13.41\n",
    "5  2014    11.39\n",
    "6  2015    -0.73\n",
    "7  2016     9.54\n",
    "8  2017    19.42\n",
    "9  2013    29.60"
   ]
  },
  {
   "cell_type": "code",
   "execution_count": null,
   "id": "a451ea89",
   "metadata": {},
   "outputs": [],
   "source": [
    "# Use merge_ordered() to merge gdp and sp500 on year and date\n",
    "gdp_sp500 = pd.merge_ordered(gdp, sp500, left_on='year', right_on='date', \n",
    "                             how='left')"
   ]
  },
  {
   "cell_type": "code",
   "execution_count": 34,
   "id": "4a463380",
   "metadata": {},
   "outputs": [
    {
     "ename": "SyntaxError",
     "evalue": "invalid syntax (2631917811.py, line 1)",
     "output_type": "error",
     "traceback": [
      "\u001b[1;36m  Input \u001b[1;32mIn [34]\u001b[1;36m\u001b[0m\n\u001b[1;33m    country code    year        gdp    date  returns\u001b[0m\n\u001b[1;37m            ^\u001b[0m\n\u001b[1;31mSyntaxError\u001b[0m\u001b[1;31m:\u001b[0m invalid syntax\n"
     ]
    }
   ],
   "source": [
    "country code    year        gdp    date  returns\n",
    "0           NaN     NaN        NaN  2008.0   -38.49\n",
    "1           NaN     NaN        NaN  2009.0    23.45\n",
    "2           USA  2010.0  1.499e+13  2010.0    12.78\n",
    "3           USA  2011.0  1.554e+13  2011.0     0.00\n",
    "4           USA  2012.0  1.620e+13  2012.0    13.41\n",
    "5           USA  2012.0  1.620e+13  2012.0    13.41\n",
    "6           USA  2013.0  1.678e+13  2013.0    29.60\n",
    "7           USA  2014.0  1.752e+13  2014.0    11.39\n",
    "8           USA  2015.0  1.822e+13  2015.0    -0.73\n",
    "9           USA  2016.0  1.871e+13  2016.0     9.54\n",
    "10          USA  2017.0  1.949e+13  2017.0    19.42\n",
    "11          USA  2018.0  2.049e+13     NaN      NaN"
   ]
  },
  {
   "cell_type": "code",
   "execution_count": 33,
   "id": "f82b6322",
   "metadata": {},
   "outputs": [
    {
     "ename": "NameError",
     "evalue": "name 'gdp' is not defined",
     "output_type": "error",
     "traceback": [
      "\u001b[1;31m---------------------------------------------------------------------------\u001b[0m",
      "\u001b[1;31mNameError\u001b[0m                                 Traceback (most recent call last)",
      "Input \u001b[1;32mIn [33]\u001b[0m, in \u001b[0;36m<cell line: 2>\u001b[1;34m()\u001b[0m\n\u001b[0;32m      1\u001b[0m \u001b[38;5;66;03m# Use merge_ordered() to merge gdp and sp500, interpolate missing value\u001b[39;00m\n\u001b[1;32m----> 2\u001b[0m gdp_sp500 \u001b[38;5;241m=\u001b[39m pd\u001b[38;5;241m.\u001b[39mmerge_ordered(\u001b[43mgdp\u001b[49m, sp500, left_on\u001b[38;5;241m=\u001b[39m\u001b[38;5;124m'\u001b[39m\u001b[38;5;124myear\u001b[39m\u001b[38;5;124m'\u001b[39m, right_on\u001b[38;5;241m=\u001b[39m\u001b[38;5;124m'\u001b[39m\u001b[38;5;124mdate\u001b[39m\u001b[38;5;124m'\u001b[39m,how\u001b[38;5;241m=\u001b[39m\u001b[38;5;124m'\u001b[39m\u001b[38;5;124mleft\u001b[39m\u001b[38;5;124m'\u001b[39m,fill_method\u001b[38;5;241m=\u001b[39m\u001b[38;5;124m'\u001b[39m\u001b[38;5;124mffill\u001b[39m\u001b[38;5;124m'\u001b[39m)\n\u001b[0;32m      6\u001b[0m \u001b[38;5;66;03m# Subset the gdp and returns columns\u001b[39;00m\n\u001b[0;32m      7\u001b[0m gdp_returns \u001b[38;5;241m=\u001b[39m gdp_sp500[[\u001b[38;5;124m'\u001b[39m\u001b[38;5;124mgdp\u001b[39m\u001b[38;5;124m'\u001b[39m,\u001b[38;5;124m'\u001b[39m\u001b[38;5;124mreturns\u001b[39m\u001b[38;5;124m'\u001b[39m]]\n",
      "\u001b[1;31mNameError\u001b[0m: name 'gdp' is not defined"
     ]
    }
   ],
   "source": [
    "# Use merge_ordered() to merge gdp and sp500, interpolate missing value\n",
    "gdp_sp500 = pd.merge_ordered(gdp, sp500, left_on='year', right_on='date',how='left',fill_method='ffill')\n",
    "\n",
    "\n",
    "\n",
    "# Subset the gdp and returns columns\n",
    "gdp_returns = gdp_sp500[['gdp','returns']]\n",
    "\n",
    "# Print gdp_returns correlation\n",
    "print(gdp_returns.corr())"
   ]
  },
  {
   "cell_type": "markdown",
   "id": "e0b3c16b",
   "metadata": {},
   "source": [
    "#### Phillips curve using merge_ordered()\n",
    "There is an economic theory developed by A. W. Phillips which states that inflation and unemployment have an inverse relationship. The theory claims that with economic growth comes inflation, which in turn should lead to more jobs and less unemployment.\n",
    "\n",
    "You will take two tables of data from the U.S. Bureau of Labor Statistics, containing unemployment and inflation data over different periods, and create a Phillips curve. The tables have different frequencies. One table has a data entry every six months, while the other has a data entry every month. You will need to use the entries where you have data within both tables.\n",
    "\n",
    "The tables unemployment and inflation have been loaded for you."
   ]
  },
  {
   "cell_type": "code",
   "execution_count": 35,
   "id": "51e93e1a",
   "metadata": {},
   "outputs": [
    {
     "ename": "NameError",
     "evalue": "name 'inflation' is not defined",
     "output_type": "error",
     "traceback": [
      "\u001b[1;31m---------------------------------------------------------------------------\u001b[0m",
      "\u001b[1;31mNameError\u001b[0m                                 Traceback (most recent call last)",
      "Input \u001b[1;32mIn [35]\u001b[0m, in \u001b[0;36m<cell line: 2>\u001b[1;34m()\u001b[0m\n\u001b[0;32m      1\u001b[0m \u001b[38;5;66;03m# Use merge_ordered() to merge inflation, unemployment with inner join\u001b[39;00m\n\u001b[1;32m----> 2\u001b[0m inflation_unemploy \u001b[38;5;241m=\u001b[39m pd\u001b[38;5;241m.\u001b[39mmerge_ordered(\u001b[43minflation\u001b[49m,unemployment,on\u001b[38;5;241m=\u001b[39m\u001b[38;5;124m'\u001b[39m\u001b[38;5;124mdate\u001b[39m\u001b[38;5;124m'\u001b[39m,how\u001b[38;5;241m=\u001b[39m\u001b[38;5;124m'\u001b[39m\u001b[38;5;124minner\u001b[39m\u001b[38;5;124m'\u001b[39m)\n\u001b[0;32m      4\u001b[0m \u001b[38;5;66;03m# Print inflation_unemploy \u001b[39;00m\n\u001b[0;32m      5\u001b[0m \u001b[38;5;28mprint\u001b[39m(inflation_unemploy)\n",
      "\u001b[1;31mNameError\u001b[0m: name 'inflation' is not defined"
     ]
    }
   ],
   "source": [
    "# Use merge_ordered() to merge inflation, unemployment with inner join\n",
    "inflation_unemploy = pd.merge_ordered(inflation,unemployment,on='date',how='inner')\n",
    "\n",
    "# Print inflation_unemploy \n",
    "print(inflation_unemploy)\n",
    "\n",
    "# Plot a scatter plot of unemployment_rate vs cpi of inflation_unemploy\n",
    "inflation_unemploy.plot(x='unemployment_rate',y='cpi',kind='scatter')\n",
    "plt.show()"
   ]
  },
  {
   "cell_type": "markdown",
   "id": "eb9224ba",
   "metadata": {},
   "source": [
    "#### merge_ordered() caution, multiple columns\n",
    "When using merge_ordered() to merge on multiple columns, the order is important when you combine it with the forward fill feature. The function sorts the merge on columns in the order provided. In this exercise, we will merge GDP and population data from the World Bank for the Australia and Sweden, reversing the order of the merge on columns. The frequency of the series are different, the GDP values are quarterly, and the population is yearly. Use the forward fill feature to fill in the missing data. Depending on the order provided, the fill forward will use unintended data to fill in the missing values."
   ]
  },
  {
   "cell_type": "code",
   "execution_count": 36,
   "id": "381a95b2",
   "metadata": {},
   "outputs": [
    {
     "ename": "NameError",
     "evalue": "name 'gdp' is not defined",
     "output_type": "error",
     "traceback": [
      "\u001b[1;31m---------------------------------------------------------------------------\u001b[0m",
      "\u001b[1;31mNameError\u001b[0m                                 Traceback (most recent call last)",
      "Input \u001b[1;32mIn [36]\u001b[0m, in \u001b[0;36m<cell line: 2>\u001b[1;34m()\u001b[0m\n\u001b[0;32m      1\u001b[0m \u001b[38;5;66;03m# Merge gdp and pop on date and country with fill and notice rows 2 and 3\u001b[39;00m\n\u001b[1;32m----> 2\u001b[0m ctry_date \u001b[38;5;241m=\u001b[39m pd\u001b[38;5;241m.\u001b[39mmerge_ordered(\u001b[43mgdp\u001b[49m,pop,on\u001b[38;5;241m=\u001b[39m[\u001b[38;5;124m'\u001b[39m\u001b[38;5;124mdate\u001b[39m\u001b[38;5;124m'\u001b[39m,\u001b[38;5;124m'\u001b[39m\u001b[38;5;124mcountry\u001b[39m\u001b[38;5;124m'\u001b[39m],fill_method\u001b[38;5;241m=\u001b[39m\u001b[38;5;124m'\u001b[39m\u001b[38;5;124mffill\u001b[39m\u001b[38;5;124m'\u001b[39m)\n\u001b[0;32m      4\u001b[0m date_ctry \u001b[38;5;241m=\u001b[39m pd\u001b[38;5;241m.\u001b[39mmerge_ordered(gdp,pop,on\u001b[38;5;241m=\u001b[39m[\u001b[38;5;124m'\u001b[39m\u001b[38;5;124mcountry\u001b[39m\u001b[38;5;124m'\u001b[39m,\u001b[38;5;124m'\u001b[39m\u001b[38;5;124mdate\u001b[39m\u001b[38;5;124m'\u001b[39m],fill_method\u001b[38;5;241m=\u001b[39m\u001b[38;5;124m'\u001b[39m\u001b[38;5;124mffill\u001b[39m\u001b[38;5;124m'\u001b[39m)\n",
      "\u001b[1;31mNameError\u001b[0m: name 'gdp' is not defined"
     ]
    }
   ],
   "source": [
    "# Merge gdp and pop on date and country with fill and notice rows 2 and 3\n",
    "ctry_date = pd.merge_ordered(gdp,pop,on=['date','country'],fill_method='ffill')\n",
    "\n",
    "date_ctry = pd.merge_ordered(gdp,pop,on=['country','date'],fill_method='ffill')\n",
    "\n",
    "## jeta age dibo seta sort kore merge korbe. so age country dile country sort kore output dibe"
   ]
  },
  {
   "attachments": {},
   "cell_type": "markdown",
   "id": "53e48127",
   "metadata": {},
   "source": []
  },
  {
   "attachments": {
    "merge%29asof%20vs%20merge_ordered.png": {
     "image/png": "[encoded data removed]"
    }
   },
   "cell_type": "markdown",
   "id": "db2fcbc8",
   "metadata": {},
   "source": [
    "![merge%29asof%20vs%20merge_ordered.png](attachment:merge%29asof%20vs%20merge_ordered.png)"
   ]
  },
  {
   "cell_type": "markdown",
   "id": "c2a2ea5b",
   "metadata": {},
   "source": [
    "### 4.2 Using merge_asof()\n",
    "The merge_asof() method is similar to an ordered left join. It has similar features as merge_ordered(). However, unlike an ordered left join, merge_asof() will match on the nearest value columns rather than equal values. This brings up an important point - whatever columns you merge on must be sorted. ALSO FOR TRAINING SEThhk\n",
    "\n",
    " First, you might think of this method when you are working with data sampled from a process and the dates or times may not exactly align. This is similar to what we did in our example. It could also be used when you are working on a time-series training set, where you do not want any events from the future to be visible before that point in time. AND ALSO FOR TRAINING"
   ]
  },
  {
   "cell_type": "markdown",
   "id": "a94f7c20",
   "metadata": {},
   "source": [
    "Using merge_asof() to study stocks\n",
    "You have a feed of stock market prices that you record. You attempt to track the price every five minutes. Still, due to some network latency, the prices you record are roughly every 5 minutes. You pull your price logs for three banks, JP Morgan (JPM), Wells Fargo (WFC), and Bank Of America (BAC). You want to know how the price change of the two other banks compare to JP Morgan. Therefore, you will need to merge these three logs into one table. "
   ]
  },
  {
   "cell_type": "code",
   "execution_count": 37,
   "id": "198d811e",
   "metadata": {},
   "outputs": [
    {
     "ename": "NameError",
     "evalue": "name 'jpm' is not defined",
     "output_type": "error",
     "traceback": [
      "\u001b[1;31m---------------------------------------------------------------------------\u001b[0m",
      "\u001b[1;31mNameError\u001b[0m                                 Traceback (most recent call last)",
      "Input \u001b[1;32mIn [37]\u001b[0m, in \u001b[0;36m<cell line: 2>\u001b[1;34m()\u001b[0m\n\u001b[0;32m      1\u001b[0m \u001b[38;5;66;03m# Use merge_asof() to merge jpm and wells\u001b[39;00m\n\u001b[1;32m----> 2\u001b[0m jpm_wells \u001b[38;5;241m=\u001b[39m pd\u001b[38;5;241m.\u001b[39mmerge_asof(\u001b[43mjpm\u001b[49m,wells,on\u001b[38;5;241m=\u001b[39m\u001b[38;5;124m'\u001b[39m\u001b[38;5;124mdate_time\u001b[39m\u001b[38;5;124m'\u001b[39m,suffixes\u001b[38;5;241m=\u001b[39m(\u001b[38;5;124m'\u001b[39m\u001b[38;5;124m'\u001b[39m, \u001b[38;5;124m'\u001b[39m\u001b[38;5;124m_wells\u001b[39m\u001b[38;5;124m'\u001b[39m),direction\u001b[38;5;241m=\u001b[39m\u001b[38;5;124m'\u001b[39m\u001b[38;5;124mnearest\u001b[39m\u001b[38;5;124m'\u001b[39m)\n\u001b[0;32m      4\u001b[0m \u001b[38;5;28mprint\u001b[39m(jpm_wells)\n\u001b[0;32m      7\u001b[0m jpm_wells_bac\u001b[38;5;241m=\u001b[39mpd\u001b[38;5;241m.\u001b[39mmerge_asof(jpm_wells,bac,on\u001b[38;5;241m=\u001b[39m\u001b[38;5;124m'\u001b[39m\u001b[38;5;124mdate_time\u001b[39m\u001b[38;5;124m'\u001b[39m,suffixes\u001b[38;5;241m=\u001b[39m(\u001b[38;5;124m'\u001b[39m\u001b[38;5;124m_jpm\u001b[39m\u001b[38;5;124m'\u001b[39m, \u001b[38;5;124m'\u001b[39m\u001b[38;5;124m_bac\u001b[39m\u001b[38;5;124m'\u001b[39m),direction\u001b[38;5;241m=\u001b[39m\u001b[38;5;124m'\u001b[39m\u001b[38;5;124mnearest\u001b[39m\u001b[38;5;124m'\u001b[39m)\n",
      "\u001b[1;31mNameError\u001b[0m: name 'jpm' is not defined"
     ]
    }
   ],
   "source": [
    "# Use merge_asof() to merge jpm and wells\n",
    "jpm_wells = pd.merge_asof(jpm,wells,on='date_time',suffixes=('', '_wells'),direction='nearest')\n",
    "\n",
    "print(jpm_wells)\n",
    "\n",
    "\n",
    "jpm_wells_bac=pd.merge_asof(jpm_wells,bac,on='date_time',suffixes=('_jpm', '_bac'),direction='nearest')\n",
    "\n",
    "\n",
    "# Compute price diff\n",
    "price_diffs = jpm_wells_bac.diff()\n",
    "\n",
    "price_diffs.plot(y=['close_jpm','close_wells','close_bac'])\n",
    "plt.show()\n",
    "\n",
    "plt.show()"
   ]
  },
  {
   "cell_type": "markdown",
   "id": "00c1ddf7",
   "metadata": {},
   "source": [
    "#### Using merge_asof() to create dataset\n",
    "The merge_asof() function can be used to create datasets where you have a table of start and stop dates, and you want to use them to create a flag in another table. You have been given gdp, which is a table of quarterly GDP values of the US during the 1980s. Additionally, the table recession has been given to you. It holds the starting date of every US recession since 1980, and the date when the recession was declared to be over. "
   ]
  },
  {
   "cell_type": "code",
   "execution_count": null,
   "id": "3709c678",
   "metadata": {},
   "outputs": [],
   "source": [
    "Using merge_asof(), merge gdp and recession on date, with gdp as the left table. Save to the variable gdp_recession.\n",
    "Create a list using a list comprehension and a conditional expression, named is_recession, where for each row if the gdp_recession['econ_status'] value is equal to 'recession' then enter 'r' else 'g'.\n",
    "Using gdp_recession, plot a bar chart of gdp versus date, setting the color argument equal to is_recession"
   ]
  },
  {
   "cell_type": "code",
   "execution_count": null,
   "id": "80d5a130",
   "metadata": {},
   "outputs": [],
   "source": [
    "# Merge gdp and recession on date using merge_asof()\n",
    "gdp_recession = pd.merge_asof(gdp, recession, on='date')          #######PRACTICE#####\n",
    "\n",
    "# Create a list based on the row value of gdp_recession['econ_status']\n",
    "is_recession = ['r' if s=='recession' else 'g' for s in gdp_recession['econ_status']]  #####NEW333#####\n",
    "\n",
    "# Plot a bar chart of gdp_recession\n",
    "gdp_recession.plot(kind='bar', y='gdp', x='date', color=is_recession, rot=90)\n",
    "plt.show()"
   ]
  },
  {
   "cell_type": "markdown",
   "id": "1f775c43",
   "metadata": {},
   "source": [
    "### 4.3 Selecting data with .query()\n",
    "\n",
    "a pandas method for selecting data from the table called the query() method. pandas provides many methods for selecting data, and query() is one of them.\n",
    "\n",
    "2. The .query() method\n",
    "The query() method accepts an input string that it will use to select rows to return from the table. \n"
   ]
  },
  {
   "cell_type": "markdown",
   "id": "5de91e73",
   "metadata": {},
   "source": [
    "### Reshaping data with .melt()"
   ]
  },
  {
   "cell_type": "code",
   "execution_count": null,
   "id": "5dc51f3d",
   "metadata": {},
   "outputs": [],
   "source": [
    "print(ur_wide)\n",
    "\n",
    "# unpivot everything besides the year column\n",
    "ur_tall = ur_wide.melt(id_vars='year',var_name='month',value_name='unempl_rate')\n",
    "\n",
    "print(ur_tall)\n",
    "# Create a date column using the month and year columns of ur_tall\n",
    "ur_tall['date'] = pd.to_datetime(ur_tall['year'] + '-' + ur_tall['month'])\n",
    "print(ur_tall)\n",
    "# Sort ur_tall by date in ascending order\n",
    "ur_sorted = ur_tall.sort_values('date',ascending=True)\n",
    "\n",
    "# Plot the unempl_rate by date\n",
    "ur_sorted.plot(x='date', y='unempl_rate')\n",
    "plt.show()"
   ]
  },
  {
   "cell_type": "code",
   "execution_count": null,
   "id": "dca1d7a0",
   "metadata": {},
   "outputs": [],
   "source": [
    "###ur_wide\n",
    "    year  jan  feb  mar  apr  ...  aug  sep  oct  nov  dec\n",
    "    0   2010  9.8  9.8  9.9  9.9  ...  9.5  9.5  9.4  9.8  9.3\n",
    "    1   2011  9.1  9.0  9.0  9.1  ...  9.0  9.0  8.8  8.6  8.5\n",
    "    2   2012  8.3  8.3  8.2  8.2  ...  8.1  7.8  7.8  7.7  7.9\n",
    "    3   2013  8.0  7.7  7.5  7.6  ...  7.2  7.2  7.2  6.9  6.7\n",
    "    4   2014  6.6  6.7  6.7  6.2  ...  6.1  5.9  5.7  5.8  5.6\n",
    "    5   2015  5.7  5.5  5.4  5.4  ...  5.1  5.0  5.0  5.1  5.0\n",
    "    6   2016  4.9  4.9  5.0  5.0  ...  4.9  5.0  4.9  4.7  4.7\n",
    "    7   2017  4.7  4.6  4.4  4.4  ...  4.4  4.2  4.1  4.2  4.1\n",
    "    8   2018  4.1  4.1  4.0  4.0  ...  3.8  3.7  3.8  3.7  3.9\n",
    "    9   2019  4.0  3.8  3.8  3.6  ...  3.7  3.5  3.6  3.5  3.5\n",
    "    10  2020  3.6  3.5  4.4  NaN  ...  NaN  NaN  NaN  NaN  NaN\n",
    "    \n",
    "###after .melt()\n",
    " year month  unempl_rate\n",
    "    0    2010   jan          9.8\n",
    "    1    2011   jan          9.1\n",
    "    2    2012   jan          8.3\n",
    "    3    2013   jan          8.0\n",
    "    4    2014   jan          6.6\n",
    "    ..    ...   ...          ...\n",
    "    127  2016   dec          4.7\n",
    "    128  2017   dec          4.1\n",
    "    129  2018   dec          3.9\n",
    "    130  2019   dec          3.5\n",
    "    131  2020   dec          NaN\n",
    "    \n",
    "    \n",
    "    \n",
    "####\n",
    "year month  unempl_rate       date\n",
    "    0    2010   jan          9.8 2010-01-01\n",
    "    1    2011   jan          9.1 2011-01-01\n",
    "    2    2012   jan          8.3 2012-01-01\n",
    "    3    2013   jan          8.0 2013-01-01\n",
    "    4    2014   jan          6.6 2014-01-01\n",
    "    ..    ...   ...          ...        ...\n",
    "    127  2016   dec          4.7 2016-12-01\n",
    "    128  2017   dec          4.1 2017-12-01\n",
    "    129  2018   dec          3.9 2018-12-01\n",
    "    130  2019   dec          3.5 2019-12-01\n",
    "    131  2020   dec          NaN 2020-12-01\n",
    "    "
   ]
  },
  {
   "cell_type": "code",
   "execution_count": null,
   "id": "fdab6c8a",
   "metadata": {},
   "outputs": [],
   "source": [
    "It is widespread knowledge that the price of bonds is inversely related to the price of stocks. In this last exercise, you'll review many of the topics in this chapter to confirm this. You have been given a table of percent change of the US 10-year treasury bond price. It is in a wide format where there is a separate column for each year. You will need to use the .melt() method to reshape this table.\n",
    "\n",
    "Additionally, you will use the .query() method to filter out unneeded data. You will merge this table with a table of the percent change of the Dow Jones Industrial stock index price. Finally, you will plot data.\n",
    "\n",
    "The tables ten_yr and dji have been loaded for you.\n",
    "\n",
    "Instructions\n",
    "70 XP\n",
    "Use .melt() on ten_yr to unpivot everything except the metric column, setting var_name='date' and value_name='close'. Save the result to bond_perc.\n",
    "Using the .query() method, select only those rows were metric equals 'close', and save to bond_perc_close.\n",
    "Use merge_ordered() to merge dji (left table) and bond_perc_close on date with an inner join, and set suffixes equal to ('_dow', '_bond'). Save the result to dow_bond.\n",
    "Using dow_bond, plot only the Dow and bond values."
   ]
  },
  {
   "cell_type": "code",
   "execution_count": null,
   "id": "3b1f2322",
   "metadata": {},
   "outputs": [],
   "source": [
    "# Use melt on ten_yr, unpivot everything besides the metric column\n",
    "bond_perc = ten_yr.melt(id_vars='metric',var_name='date',value_name='close')\n",
    "\n",
    "print(bond_perc)\n",
    "# Use query on bond_perc to select only the rows where metric=close\n",
    "bond_perc_close = bond_perc.query('metric==\"close\"')\n",
    "\n",
    "# Merge (ordered) dji and bond_perc_close on date with an inner join\n",
    "dow_bond = pd.merge_ordered(dji,bond_perc_close,on='date',how='inner',suffixes=['_dow', '_bond'])\n",
    "\n",
    "print(dow_bond)\n",
    "# Plot only the close_dow and close_bond columns\n",
    "dow_bond.plot(y=['close_dow','close_bond'], x='date', rot=90)\n",
    "plt.show()"
   ]
  },
  {
   "cell_type": "code",
   "execution_count": null,
   "id": "2302f028",
   "metadata": {},
   "outputs": [],
   "source": [
    "###DATE        TIMEEEEE###\n",
    "\n",
    "data['month'] = pd.to_datetime(data['date']).dt.month\n",
    "DF[''].unique()\n",
    "users_last_10 = set(joined_pr.nlargest(10, 'date')['user'])"
   ]
  }
 ],
 "metadata": {
  "kernelspec": {
   "display_name": "Python 3 (ipykernel)",
   "language": "python",
   "name": "python3"
  },
  "language_info": {
   "codemirror_mode": {
    "name": "ipython",
    "version": 3
   },
   "file_extension": ".py",
   "mimetype": "text/x-python",
   "name": "python",
   "nbconvert_exporter": "python",
   "pygments_lexer": "ipython3",
   "version": "3.9.12"
  }
 },
 "nbformat": 4,
 "nbformat_minor": 5
}
