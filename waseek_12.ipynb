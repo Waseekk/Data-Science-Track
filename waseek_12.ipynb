{
 "cells": [
  {
   "cell_type": "markdown",
   "id": "7fb4df31",
   "metadata": {},
   "source": [
    "# Name: Irtefa Waseek\n",
    "# ID: 20229012"
   ]
  },
  {
   "cell_type": "code",
   "execution_count": null,
   "id": "283ac088",
   "metadata": {},
   "outputs": [],
   "source": []
  },
  {
   "cell_type": "code",
   "execution_count": 32,
   "id": "94beaa96",
   "metadata": {},
   "outputs": [
    {
     "name": "stdout",
     "output_type": "stream",
     "text": [
      "Please enter any number (Press 'q' to quit): 6\n",
      "Please enter any number (Press 'q' to quit): 5\n",
      "Please enter any number (Press 'q' to quit): -8\n",
      "Please enter any number (Press 'q' to quit): -9\n",
      "Please enter any number (Press 'q' to quit): 0\n",
      "Please enter any number (Press 'q' to quit): w\n",
      "Invalid input, please enter a number.\n",
      "Please enter any number (Press 'q' to quit): e\n",
      "Invalid input, please enter a number.\n",
      "Please enter any number (Press 'q' to quit): q\n",
      "\n",
      "i =  6 ; Great!! It is a POSITVE Number\n",
      "\n",
      "i =  5 ; Great!! It is a POSITVE Number\n",
      "\n",
      "i =  -8 ;Sorry! It is a negative Number\n",
      "\n",
      "i =  -9 ;Sorry! It is a negative Number\n",
      "\n",
      "i = 0 ; Sorry! it is zero\n"
     ]
    }
   ],
   "source": [
    "## assignment 1. [looping]\n",
    "## finding a positive number from user input\n",
    "\n",
    "list = []\n",
    "\n",
    "while True:\n",
    "    n = input(\"Please enter any number (Press 'q' to quit): \")\n",
    "    if n == 'q':\n",
    "        break\n",
    "    try:\n",
    "        n = int(n)\n",
    "        list.append(n)\n",
    "    except ValueError:\n",
    "        try:\n",
    "            n = float(n)\n",
    "            list.append(n)\n",
    "        except ValueError:\n",
    "            print(\"Invalid input, please enter a number.\")\n",
    "\n",
    "for i in list:    \n",
    "    try:\n",
    "        if i == 0:\n",
    "            print('\\ni =',i, '; Sorry! it is zero')\n",
    "        elif i<0:\n",
    "            print('\\ni = ', i, ';Sorry! It is a negative Number')\n",
    "        elif i>0:\n",
    "            print('\\ni = ', i, '; Great!! It is a POSITVE Number')\n",
    "            \n",
    "    except:\n",
    "        print('\\ni = ', i, ';It is probably undefined for this code!')\n"
   ]
  },
  {
   "cell_type": "code",
   "execution_count": 33,
   "id": "939b2202",
   "metadata": {},
   "outputs": [
    {
     "name": "stdout",
     "output_type": "stream",
     "text": [
      "Please Enter a number (integer or float) :   x = u\n",
      "Sorry! please enter a number. This is not a number.\n"
     ]
    }
   ],
   "source": [
    "## assignment [user defined function]\n",
    "\n",
    "# writing a user defined function for add and substract of any two number\n",
    "\n",
    "try:\n",
    "    x = float(input('Please Enter a number (integer or float) :   x = '))\n",
    "    y = float(input('Please Enter a number (integer or float) :   y = '))\n",
    "except ValueError:\n",
    "    print('Sorry! please enter a number. This is not a number.')\n",
    "    x = None\n",
    "    y = None\n",
    "\n",
    "def create_math_function(func_name):\n",
    "    \" Create a function for adding or substracting of two number\"\n",
    "    if func_name == 'add':\n",
    "        def add(a, b):\n",
    "            return a + b\n",
    "        return add\n",
    "    elif func_name == 'subtract':\n",
    "        def subtract(a,b):\n",
    "            return a-b\n",
    "        return subtract\n",
    "    else:\n",
    "        print(\"I don't know that one\")\n",
    "        return None\n",
    "\n",
    "if x is not None and y is not None:\n",
    "    add = create_math_function('add')\n",
    "    print('x + y = {}'.format(add(x, y)))\n",
    "\n",
    "    subtract = create_math_function('subtract')\n",
    "    print('x - y = {}'.format(subtract(x, y)))\n"
   ]
  },
  {
   "cell_type": "code",
   "execution_count": null,
   "id": "8bfc94e8",
   "metadata": {},
   "outputs": [],
   "source": []
  }
 ],
 "metadata": {
  "kernelspec": {
   "display_name": "Python 3 (ipykernel)",
   "language": "python",
   "name": "python3"
  },
  "language_info": {
   "codemirror_mode": {
    "name": "ipython",
    "version": 3
   },
   "file_extension": ".py",
   "mimetype": "text/x-python",
   "name": "python",
   "nbconvert_exporter": "python",
   "pygments_lexer": "ipython3",
   "version": "3.9.12"
  },
  "toc": {
   "base_numbering": 1,
   "nav_menu": {},
   "number_sections": false,
   "sideBar": true,
   "skip_h1_title": false,
   "title_cell": "Table of Contents",
   "title_sidebar": "Contents",
   "toc_cell": false,
   "toc_position": {},
   "toc_section_display": true,
   "toc_window_display": true
  }
 },
 "nbformat": 4,
 "nbformat_minor": 5
}
